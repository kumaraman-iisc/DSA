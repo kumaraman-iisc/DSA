{
 "cells": [
  {
   "cell_type": "markdown",
   "id": "e49c4ca5-0f2a-43cb-ae33-ccc081ba16e8",
   "metadata": {},
   "source": [
    "# ODD OR EVEN"
   ]
  },
  {
   "cell_type": "markdown",
   "id": "5ab14cc3-a8a7-4ece-af65-3e0f4fb64c70",
   "metadata": {},
   "source": [
    "The program takes input from the user and tells whether the number is odd or even"
   ]
  },
  {
   "cell_type": "code",
   "execution_count": 10,
   "id": "6dbea97c-9760-4c4a-94bd-7247b69adcfc",
   "metadata": {},
   "outputs": [
    {
     "name": "stdin",
     "output_type": "stream",
     "text": [
      " 30121100101\n"
     ]
    }
   ],
   "source": [
    "number = int(input())"
   ]
  },
  {
   "cell_type": "markdown",
   "id": "68f8ca05-e37c-4303-8969-21770f327778",
   "metadata": {},
   "source": [
    "instead of directly using input(), I have used int(input()). This is because input() by default returns an string so any numerical operation is not possible on strings. This is why input() is explicitally converted to int type."
   ]
  },
  {
   "cell_type": "code",
   "execution_count": 5,
   "id": "2e157d11-6fe3-4123-b083-56df902e9a53",
   "metadata": {},
   "outputs": [
    {
     "name": "stdout",
     "output_type": "stream",
     "text": [
      "<class 'int'>\n"
     ]
    }
   ],
   "source": [
    "print(type(number))"
   ]
  },
  {
   "cell_type": "code",
   "execution_count": 8,
   "id": "a4e61983-4f70-4110-9dfc-3c0114632240",
   "metadata": {},
   "outputs": [],
   "source": [
    "def odd_or_even(num):\n",
    "    if num % 2 == 0:\n",
    "        print(f\"{num} is an even number\")\n",
    "    else:\n",
    "        print(f\"{num} is an odd number\")"
   ]
  },
  {
   "cell_type": "code",
   "execution_count": 11,
   "id": "5bef6b1b-c06f-4867-a33f-651bc1f0df62",
   "metadata": {},
   "outputs": [
    {
     "name": "stdout",
     "output_type": "stream",
     "text": [
      "30121100101 is an odd number\n"
     ]
    }
   ],
   "source": [
    "odd_or_even(number)"
   ]
  },
  {
   "cell_type": "code",
   "execution_count": null,
   "id": "1cecdf24-c6c5-4544-825a-7da8a914c145",
   "metadata": {},
   "outputs": [],
   "source": []
  }
 ],
 "metadata": {
  "kernelspec": {
   "display_name": "Python 3 (ipykernel)",
   "language": "python",
   "name": "python3"
  },
  "language_info": {
   "codemirror_mode": {
    "name": "ipython",
    "version": 3
   },
   "file_extension": ".py",
   "mimetype": "text/x-python",
   "name": "python",
   "nbconvert_exporter": "python",
   "pygments_lexer": "ipython3",
   "version": "3.10.0"
  }
 },
 "nbformat": 4,
 "nbformat_minor": 5
}
