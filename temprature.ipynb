{
 "cells": [
  {
   "cell_type": "code",
   "execution_count": null,
   "id": "e45d9241-0c43-4e85-8c65-b063a6981234",
   "metadata": {},
   "outputs": [],
   "source": [
    "def temp_conversion(temp, unit):\n",
    "    \"\"\" This function converts temp from one temp unit to other temp unit\"\"\"\n",
    "    if unit=='C':\n",
    "        faren = temp * (9/5) + 32\n",
    "        kelvin = temp + 273.15\n",
    "        print(f\"{temp} C in Farhenheit is = {faren} F\")\n",
    "        print(f\"{temp} C in Kelvin is = {kelvin} K\")\n",
    "\n",
    "    elif unit == 'F':\n",
    "        cel = (temp - 32) * 5/9\n",
    "        kelvin = cel + 273.15\n",
    "        print(f\"{temp} F in Celcius is = {cel} C\")\n",
    "        print(f\"{temp} F in Kelvin is = {kelvin} K\")\n",
    "\n",
    "    elif unit == 'K':\n",
    "        cel = temp - 273.15\n",
    "        faren = (cel - 32) * 5/9\n",
    "        print(f\"{temp} K in Celcius is = {cel} C\")\n",
    "        print(f\"{temp} K in Farhenheit is = {faren} F\")\n",
    "\n",
    "    else:\n",
    "        return print(f\"Give proper unit\")"
   ]
  },
  {
   "cell_type": "code",
   "execution_count": 3,
   "id": "ff0a8f45",
   "metadata": {},
   "outputs": [
    {
     "name": "stdout",
     "output_type": "stream",
     "text": [
      "0 C in Farhenheit is = 32.0 F\n",
      "0 C in Kelvin is = 273.15 K\n"
     ]
    }
   ],
   "source": [
    "temp_conversion(0 , 'C')"
   ]
  },
  {
   "cell_type": "code",
   "execution_count": 4,
   "id": "e35e9e6a",
   "metadata": {},
   "outputs": [
    {
     "name": "stdout",
     "output_type": "stream",
     "text": [
      "-273.15 K in Celcius is = -546.3 C\n",
      "-273.15 K in Farhenheit is = -321.27777777777777 F\n"
     ]
    }
   ],
   "source": [
    "temp_conversion(-273.15, 'K')"
   ]
  },
  {
   "cell_type": "code",
   "execution_count": 5,
   "id": "12d84cb5",
   "metadata": {},
   "outputs": [
    {
     "name": "stdout",
     "output_type": "stream",
     "text": [
      "0 F in Celcius is = -17.77777777777778 C\n",
      "0 F in Kelvin is = 255.3722222222222 K\n"
     ]
    }
   ],
   "source": [
    "temp_conversion(0,'F')"
   ]
  },
  {
   "cell_type": "code",
   "execution_count": null,
   "id": "1d8763b0",
   "metadata": {},
   "outputs": [],
   "source": []
  }
 ],
 "metadata": {
  "kernelspec": {
   "display_name": "Python 3",
   "language": "python",
   "name": "python3"
  },
  "language_info": {
   "codemirror_mode": {
    "name": "ipython",
    "version": 3
   },
   "file_extension": ".py",
   "mimetype": "text/x-python",
   "name": "python",
   "nbconvert_exporter": "python",
   "pygments_lexer": "ipython3",
   "version": "3.12.0"
  }
 },
 "nbformat": 4,
 "nbformat_minor": 5
}
