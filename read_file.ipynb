{
 "cells": [
  {
   "cell_type": "code",
   "execution_count": 1,
   "id": "98bf9c6b",
   "metadata": {},
   "outputs": [],
   "source": [
    "def count_word_frequency(file_path):\n",
    "    word_count = {}\n",
    "    with open(file_path, \"r\") as file:\n",
    "        for line in file:\n",
    "            words = line.split()\n",
    "            for word in words:\n",
    "                word = word.lower().strip('.,!?:;\"\\'')\n",
    "                word_count[word] = word_count.get(word,0) + 1\n",
    "            \n",
    "        return word_count"
   ]
  },
  {
   "cell_type": "code",
   "execution_count": 3,
   "id": "aa4284ae",
   "metadata": {},
   "outputs": [
    {
     "name": "stdout",
     "output_type": "stream",
     "text": [
      "{'a': 2, 'quick': 1, 'brown': 1, 'fox': 1, 'runs': 1, 'over': 1, 'lazy': 1, 'dog': 1, 'she': 1, 'asked': 1, 'babu': 2, 'ne': 1, 'thana': 1, 'thaya': 1, 'to': 1, 'which': 1, 'he': 1, 'replied': 1, 'nhi': 3, 'jb': 1, 'tak': 2, 'mela': 1, 'shona': 1, 'khana': 1, 'khayega': 1, 'tb': 1, 'bhi': 1, 'tahyega': 1}\n"
     ]
    }
   ],
   "source": [
    "filepath = 'conv.txt'\n",
    "word_freq = count_word_frequency(filepath)\n",
    "print(word_freq)"
   ]
  },
  {
   "cell_type": "code",
   "execution_count": null,
   "id": "4b0fa8ec",
   "metadata": {},
   "outputs": [],
   "source": []
  }
 ],
 "metadata": {
  "kernelspec": {
   "display_name": "Python 3",
   "language": "python",
   "name": "python3"
  },
  "language_info": {
   "codemirror_mode": {
    "name": "ipython",
    "version": 3
   },
   "file_extension": ".py",
   "mimetype": "text/x-python",
   "name": "python",
   "nbconvert_exporter": "python",
   "pygments_lexer": "ipython3",
   "version": "3.12.0"
  }
 },
 "nbformat": 4,
 "nbformat_minor": 5
}
