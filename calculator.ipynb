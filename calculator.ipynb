{
 "cells": [
  {
   "cell_type": "code",
   "execution_count": 1,
   "id": "a5078304-c7c6-4629-9dfa-b06939d70268",
   "metadata": {},
   "outputs": [
    {
     "name": "stdout",
     "output_type": "stream",
     "text": [
      "enter 1st number\n"
     ]
    },
    {
     "name": "stdin",
     "output_type": "stream",
     "text": [
      " 19\n"
     ]
    },
    {
     "name": "stdout",
     "output_type": "stream",
     "text": [
      "enter 2nd number\n"
     ]
    },
    {
     "name": "stdin",
     "output_type": "stream",
     "text": [
      " 0\n"
     ]
    }
   ],
   "source": [
    "print(f\"enter 1st number\")\n",
    "a = float(input())\n",
    "\n",
    "print(f\"enter 2nd number\")\n",
    "b = float(input())"
   ]
  },
  {
   "cell_type": "code",
   "execution_count": 48,
   "id": "31225eb1-5749-41d6-928e-f01295481478",
   "metadata": {},
   "outputs": [
    {
     "name": "stdout",
     "output_type": "stream",
     "text": [
      "enter 1st number\n"
     ]
    },
    {
     "name": "stdin",
     "output_type": "stream",
     "text": [
      " 21\n"
     ]
    },
    {
     "name": "stdout",
     "output_type": "stream",
     "text": [
      "enter 2nd number\n"
     ]
    },
    {
     "name": "stdin",
     "output_type": "stream",
     "text": [
      " 8\n"
     ]
    }
   ],
   "source": [
    "print(f\"enter 1st number\")\n",
    "c = int(input())\n",
    "\n",
    "print(f\"enter 2nd number\")\n",
    "d = int(input())"
   ]
  },
  {
   "cell_type": "code",
   "execution_count": 2,
   "id": "be23d310-e996-4962-b8a3-bfa84575c102",
   "metadata": {},
   "outputs": [],
   "source": [
    "def add(num1, num2):\n",
    "    return num1 + num2 "
   ]
  },
  {
   "cell_type": "code",
   "execution_count": 3,
   "id": "c1c4333c-c8ba-4bee-8cd3-6370177a13f4",
   "metadata": {},
   "outputs": [],
   "source": [
    "def subtract(num1, num2):\n",
    "    if num1 >= num2:\n",
    "        return num1 - num2\n",
    "    \n",
    "    else:\n",
    "        return num2 - num1"
   ]
  },
  {
   "cell_type": "code",
   "execution_count": 4,
   "id": "c007c827-b8e9-4eff-8193-5a7647393780",
   "metadata": {},
   "outputs": [],
   "source": [
    "def multiply(num1, num2):\n",
    "    return num1 * num2"
   ]
  },
  {
   "cell_type": "code",
   "execution_count": 5,
   "id": "54a2bd21-6e17-43fa-98a0-af639573a7a9",
   "metadata": {},
   "outputs": [],
   "source": [
    "def divide(num1, num2):\n",
    "    if num2 == 0:\n",
    "        print(f\"0 cannot be in denominator. follow maths fundamentals\")\n",
    "\n",
    "    else:\n",
    "        div = num1 / num2\n",
    "        print(f\"{div: .4f}\")"
   ]
  },
  {
   "cell_type": "code",
   "execution_count": 6,
   "id": "688a1fd0-05dd-4e76-a697-82085d2c4a9f",
   "metadata": {},
   "outputs": [],
   "source": [
    "def remainder(num1, num2):\n",
    "    if num2 == 0:\n",
    "        print(f\"0 cannot be in denominator. follow maths fundamentals\")\n",
    "\n",
    "    else:\n",
    "        return num1 % num2"
   ]
  },
  {
   "cell_type": "code",
   "execution_count": 7,
   "id": "9f9ebe71-01d5-40d6-80d5-c5e3c9778d7b",
   "metadata": {},
   "outputs": [],
   "source": [
    "def power(num1, num2):\n",
    "    return num1 ** num2"
   ]
  },
  {
   "cell_type": "code",
   "execution_count": 8,
   "id": "112092eb-a55f-4ea7-a4b2-526d44ca9776",
   "metadata": {},
   "outputs": [
    {
     "data": {
      "text/plain": [
       "19.0"
      ]
     },
     "execution_count": 8,
     "metadata": {},
     "output_type": "execute_result"
    }
   ],
   "source": [
    "add(a, b)"
   ]
  },
  {
   "cell_type": "code",
   "execution_count": 9,
   "id": "31119231-e376-4ae8-85f0-e2a4f7a7951b",
   "metadata": {},
   "outputs": [
    {
     "data": {
      "text/plain": [
       "19.0"
      ]
     },
     "execution_count": 9,
     "metadata": {},
     "output_type": "execute_result"
    }
   ],
   "source": [
    "subtract(a, b)"
   ]
  },
  {
   "cell_type": "code",
   "execution_count": 10,
   "id": "3bcb170f-2a30-464a-b093-a17b0eb54eb1",
   "metadata": {},
   "outputs": [
    {
     "data": {
      "text/plain": [
       "0.0"
      ]
     },
     "execution_count": 10,
     "metadata": {},
     "output_type": "execute_result"
    }
   ],
   "source": [
    "multiply(a, b)"
   ]
  },
  {
   "cell_type": "code",
   "execution_count": 11,
   "id": "1aa76eaa-57d3-4736-89e8-7bb0a3c986a7",
   "metadata": {},
   "outputs": [
    {
     "name": "stdout",
     "output_type": "stream",
     "text": [
      "0 cannot be in denominator. follow maths fundamentals\n"
     ]
    }
   ],
   "source": [
    "divide(a, b)"
   ]
  },
  {
   "cell_type": "code",
   "execution_count": 12,
   "id": "50071353-3584-4661-b989-8414ddda7d21",
   "metadata": {},
   "outputs": [
    {
     "name": "stdout",
     "output_type": "stream",
     "text": [
      "0 cannot be in denominator. follow maths fundamentals\n"
     ]
    }
   ],
   "source": [
    "remainder(a, b)"
   ]
  },
  {
   "cell_type": "code",
   "execution_count": 13,
   "id": "0a7ce61f-f34b-4c86-8ce2-470fca6ead89",
   "metadata": {},
   "outputs": [
    {
     "data": {
      "text/plain": [
       "1.0"
      ]
     },
     "execution_count": 13,
     "metadata": {},
     "output_type": "execute_result"
    }
   ],
   "source": [
    "power(a, b)"
   ]
  },
  {
   "cell_type": "code",
   "execution_count": null,
   "id": "fe26083a-bc70-4110-97f1-64046c8fd60c",
   "metadata": {},
   "outputs": [],
   "source": []
  }
 ],
 "metadata": {
  "kernelspec": {
   "display_name": "Python 3 (ipykernel)",
   "language": "python",
   "name": "python3"
  },
  "language_info": {
   "codemirror_mode": {
    "name": "ipython",
    "version": 3
   },
   "file_extension": ".py",
   "mimetype": "text/x-python",
   "name": "python",
   "nbconvert_exporter": "python",
   "pygments_lexer": "ipython3",
   "version": "3.10.0"
  }
 },
 "nbformat": 4,
 "nbformat_minor": 5
}
