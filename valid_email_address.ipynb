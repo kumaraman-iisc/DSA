{
 "cells": [
  {
   "cell_type": "code",
   "execution_count": 1,
   "id": "55b7d5ab",
   "metadata": {},
   "outputs": [],
   "source": [
    "import re"
   ]
  },
  {
   "cell_type": "code",
   "execution_count": 10,
   "id": "de6b7ec5",
   "metadata": {},
   "outputs": [],
   "source": [
    "def valid_email_address(email):\n",
    "    \"\"\"This function checks whether the email entered is valid or not\"\"\"\n",
    "    pattern = r'[a-zA-Z0-9_.-]+@[a-zA-Z0-9]+\\.[a-zA-Z]+$'\n",
    "    return re.match(pattern, email) is not None"
   ]
  },
  {
   "cell_type": "code",
   "execution_count": 12,
   "id": "4a7e3237",
   "metadata": {},
   "outputs": [
    {
     "name": "stdout",
     "output_type": "stream",
     "text": [
      "True\n",
      "False\n"
     ]
    }
   ],
   "source": [
    "print(valid_email_address('test@yourmail.com'))\n",
    "print(valid_email_address(\"example123\"))"
   ]
  },
  {
   "cell_type": "code",
   "execution_count": 15,
   "id": "697b02bc",
   "metadata": {},
   "outputs": [
    {
     "data": {
      "text/plain": [
       "True"
      ]
     },
     "execution_count": 15,
     "metadata": {},
     "output_type": "execute_result"
    }
   ],
   "source": [
    "valid_email_address(\"mausam_hai_suhana123@alerts.com\")"
   ]
  },
  {
   "cell_type": "code",
   "execution_count": null,
   "id": "52fd5d88",
   "metadata": {},
   "outputs": [],
   "source": []
  }
 ],
 "metadata": {
  "kernelspec": {
   "display_name": "Python 3",
   "language": "python",
   "name": "python3"
  },
  "language_info": {
   "codemirror_mode": {
    "name": "ipython",
    "version": 3
   },
   "file_extension": ".py",
   "mimetype": "text/x-python",
   "name": "python",
   "nbconvert_exporter": "python",
   "pygments_lexer": "ipython3",
   "version": "3.12.0"
  }
 },
 "nbformat": 4,
 "nbformat_minor": 5
}
