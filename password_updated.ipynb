def password_level(password):
    """Checks the strength of a password with basic criteria."""
    issues = []

    if len(password) < 8:
        issues.append("Password needs to have at least 8 characters")

    if not any(char.isdigit() for char in password):
        issues.append("At least one digit is required")

    if not any(char.islower() for char in password):
        issues.append("At least one lowercase letter is required")

    if not any(char.isupper() for char in password):
        issues.append("At least one uppercase letter is required")

    if not any(char in '!@#$%^&*()_+' for char in password):
        issues.append("At least one special character (!@#$%^&*()_+) is required")

    if issues:
        return '\n'.join(issues)
    return "Password is strong"

print(password_level("Kaman@1999"))