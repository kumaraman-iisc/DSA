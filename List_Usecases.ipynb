{
 "cells": [
  {
   "cell_type": "markdown",
   "id": "0554456c-c630-4c2e-a2fa-1f58b69c7fe7",
   "metadata": {},
   "source": [
    "# Student grades"
   ]
  },
  {
   "cell_type": "code",
   "execution_count": 22,
   "id": "7fa20244-6ddc-4627-90a9-388290a93492",
   "metadata": {},
   "outputs": [],
   "source": [
    "grades = [85, 92, 78, 90, 88]"
   ]
  },
  {
   "cell_type": "code",
   "execution_count": 23,
   "id": "be6fe3c6-7602-4b14-bf83-fc37546e123c",
   "metadata": {},
   "outputs": [],
   "source": [
    "grades.append(95)"
   ]
  },
  {
   "cell_type": "code",
   "execution_count": 24,
   "id": "b181ffc5-239c-457e-b73f-f7785863bb86",
   "metadata": {},
   "outputs": [
    {
     "name": "stdout",
     "output_type": "stream",
     "text": [
      "enter the new grades: \n"
     ]
    },
    {
     "name": "stdin",
     "output_type": "stream",
     "text": [
      " 90\n"
     ]
    }
   ],
   "source": [
    "print(f\"enter the new grades: \")\n",
    "grades.append(int(input()))"
   ]
  },
  {
   "cell_type": "code",
   "execution_count": 25,
   "id": "10a40802-00a6-41f3-8c9e-15c3ac0d0387",
   "metadata": {},
   "outputs": [
    {
     "name": "stdout",
     "output_type": "stream",
     "text": [
      "[85, 92, 78, 90, 88, 95, 90]\n"
     ]
    }
   ],
   "source": [
    "print(grades)"
   ]
  },
  {
   "cell_type": "code",
   "execution_count": 29,
   "id": "461fde49-d1c0-48c8-ae72-2545e85be0ba",
   "metadata": {},
   "outputs": [
    {
     "name": "stdout",
     "output_type": "stream",
     "text": [
      "average grade is:  88.2857\n"
     ]
    }
   ],
   "source": [
    "average_grades = sum(grades) / len(grades)\n",
    "print(f\"average grade is: {average_grades: .4f}\")"
   ]
  },
  {
   "cell_type": "code",
   "execution_count": 30,
   "id": "ce43c89e-d3e7-46e0-bed7-f6098b0773e8",
   "metadata": {},
   "outputs": [],
   "source": [
    "highest_grade = max(grades)\n",
    "lowest_grade = min(grades)"
   ]
  },
  {
   "cell_type": "code",
   "execution_count": 33,
   "id": "7353e7c4-e11f-45d4-9570-c3317ef2bafd",
   "metadata": {},
   "outputs": [
    {
     "name": "stdout",
     "output_type": "stream",
     "text": [
      "Congratulatiions!!!! The highest grade is 95\n",
      "The lowest grade is 78\n"
     ]
    }
   ],
   "source": [
    "print(f\"Congratulatiions!!!! The highest grade is {highest_grade}\")\n",
    "print(f\"The lowest grade is {lowest_grade}\")"
   ]
  },
  {
   "cell_type": "markdown",
   "id": "c9875f53-8db2-46b4-b2e2-29fd294a279a",
   "metadata": {},
   "source": [
    "# Managing the inventories"
   ]
  },
  {
   "cell_type": "code",
   "execution_count": 42,
   "id": "2669c9e2-d6ec-4735-a770-2706b9c306c5",
   "metadata": {},
   "outputs": [],
   "source": [
    "inventory = [\"apples\", \"banana\", \"oranges\", \"grapes\"]"
   ]
  },
  {
   "cell_type": "code",
   "execution_count": 68,
   "id": "9e2b3909-2735-42f8-a1f5-aa8c2af478d6",
   "metadata": {},
   "outputs": [
    {
     "name": "stdout",
     "output_type": "stream",
     "text": [
      "Add items in the inventory\n"
     ]
    },
    {
     "name": "stdin",
     "output_type": "stream",
     "text": [
      " mangoes\n"
     ]
    },
    {
     "name": "stdout",
     "output_type": "stream",
     "text": [
      "updated inventory:  ['apples', 'banana', 'oranges', 'guavava', 'mausambi', 'avocado', 'strawberries', 'mangoes']\n"
     ]
    }
   ],
   "source": [
    "print(f\"Add items in the inventory\")\n",
    "inventory.append(input())\n",
    "print(f\"updated inventory: \", inventory)"
   ]
  },
  {
   "cell_type": "code",
   "execution_count": 55,
   "id": "460a3812-8cab-400a-815b-82e78179c1a6",
   "metadata": {},
   "outputs": [
    {
     "name": "stdin",
     "output_type": "stream",
     "text": [
      " strawberrir=es\n"
     ]
    },
    {
     "name": "stdout",
     "output_type": "stream",
     "text": [
      " out of stock strawberrir=es removed from the inventory\n"
     ]
    }
   ],
   "source": [
    "out_of_stock = input()\n",
    "inventory.remove(out_of_stock)\n",
    "print(f\" out of stock {out_of_stock} removed from the inventory\")"
   ]
  },
  {
   "cell_type": "code",
   "execution_count": 69,
   "id": "8e10e651-65ae-42f0-b42c-9e17fc624672",
   "metadata": {},
   "outputs": [
    {
     "name": "stdout",
     "output_type": "stream",
     "text": [
      "updated inventory: ['apples', 'banana', 'oranges', 'guavava', 'mausambi', 'avocado', 'strawberries', 'mangoes']\n"
     ]
    }
   ],
   "source": [
    "print(f\"updated inventory: {inventory}\")"
   ]
  },
  {
   "cell_type": "code",
   "execution_count": 70,
   "id": "8798f500-bd0b-435f-940a-f340c84d4735",
   "metadata": {},
   "outputs": [
    {
     "name": "stdin",
     "output_type": "stream",
     "text": [
      " mangoes\n"
     ]
    }
   ],
   "source": [
    "item = input()"
   ]
  },
  {
   "cell_type": "code",
   "execution_count": 71,
   "id": "846d97da-c0f0-4071-afad-1abf6464e93f",
   "metadata": {},
   "outputs": [
    {
     "name": "stdout",
     "output_type": "stream",
     "text": [
      "mangoes are in the stock\n"
     ]
    }
   ],
   "source": [
    "if item in inventory:\n",
    "    print(f\"{item} are in the stock\")\n",
    "\n",
    "else:\n",
    "    print(f\" {item} not available at the moment\")"
   ]
  },
  {
   "cell_type": "code",
   "execution_count": 72,
   "id": "c89e7f7b-46ee-4f75-8377-444ca3d9cb9e",
   "metadata": {},
   "outputs": [
    {
     "name": "stdout",
     "output_type": "stream",
     "text": [
      "8\n"
     ]
    }
   ],
   "source": [
    "count = 0\n",
    "\n",
    "for item in inventory:\n",
    "    count += 1\n",
    "\n",
    "print(count)"
   ]
  },
  {
   "cell_type": "code",
   "execution_count": 73,
   "id": "850d657d-cdea-45ef-aafe-c8c68cd35605",
   "metadata": {},
   "outputs": [
    {
     "name": "stdout",
     "output_type": "stream",
     "text": [
      "total items in stock:  8\n",
      "items in stock: \n",
      "- apples\n",
      "- banana\n",
      "- oranges\n",
      "- guavava\n",
      "- mausambi\n",
      "- avocado\n",
      "- strawberries\n",
      "- mangoes\n"
     ]
    }
   ],
   "source": [
    "print(f\"total items in stock: \", count)\n",
    "print(f\"items in stock: \")\n",
    "\n",
    "for item in inventory:\n",
    "    print(f\"- {item}\")"
   ]
  },
  {
   "cell_type": "code",
   "execution_count": null,
   "id": "7825c2c9-cc66-4b93-9b6d-70c1bf23c716",
   "metadata": {},
   "outputs": [],
   "source": []
  }
 ],
 "metadata": {
  "kernelspec": {
   "display_name": "Python 3 (ipykernel)",
   "language": "python",
   "name": "python3"
  },
  "language_info": {
   "codemirror_mode": {
    "name": "ipython",
    "version": 3
   },
   "file_extension": ".py",
   "mimetype": "text/x-python",
   "name": "python",
   "nbconvert_exporter": "python",
   "pygments_lexer": "ipython3",
   "version": "3.10.0"
  }
 },
 "nbformat": 4,
 "nbformat_minor": 5
}
