{
 "cells": [
  {
   "cell_type": "code",
   "execution_count": 10,
   "id": "d0381090",
   "metadata": {},
   "outputs": [],
   "source": [
    "def password_level(password):\n",
    "    \"\"\"This function checks whether a password is strong or not\"\"\"\n",
    "    if len(password) < 8:\n",
    "        #print(f\"Password needs to have atleast 8 characters\")\n",
    "        return False\n",
    "\n",
    "    if not any(char.isdigit() for char in password):\n",
    "        #print(f\"Enter a password\")\n",
    "        return False\n",
    "\n",
    "    if not any(char.islower() for char in password):\n",
    "        #print(f\"At least one uppercase is required\")\n",
    "        return False\n",
    "\n",
    "    if not any(char.isupper() for char in password):\n",
    "        #print(f\"At least one lowercase is required\")\n",
    "        return False\n",
    "    \n",
    "    if not any(char.isnumeric() for char in password):\n",
    "        #print(f\"atleasst one numeric is required\")\n",
    "        return False\n",
    "\n",
    "    if not any(char in '!@#$%^&*()_+' for char in password):\n",
    "        #print(f\"Atleast one special character is required\")\n",
    "        return False\n",
    "    return True"
   ]
  },
  {
   "cell_type": "code",
   "execution_count": 11,
   "id": "28a394b5",
   "metadata": {},
   "outputs": [
    {
     "name": "stdout",
     "output_type": "stream",
     "text": [
      "True\n",
      "False\n",
      "False\n",
      "False\n"
     ]
    }
   ],
   "source": [
    "print(password_level('Kiisc@1999'))\n",
    "print(password_level('Kiisc@1'))\n",
    "print(password_level('Kiisc'))\n",
    "print(password_level(\" \"))"
   ]
  },
  {
   "cell_type": "code",
   "execution_count": 9,
   "id": "f5fe38b0",
   "metadata": {},
   "outputs": [
    {
     "name": "stdout",
     "output_type": "stream",
     "text": [
      "Enter a password\n",
      "None\n",
      "Password needs to have atleast 8 characters\n",
      "Enter a password\n",
      "None\n"
     ]
    }
   ],
   "source": [
    "print(password_level('KumarAman@'))\n",
    "print(password_level('Kiisc@'))"
   ]
  },
  {
   "cell_type": "code",
   "execution_count": null,
   "id": "7925d89a",
   "metadata": {},
   "outputs": [],
   "source": []
  }
 ],
 "metadata": {
  "kernelspec": {
   "display_name": "Python 3",
   "language": "python",
   "name": "python3"
  },
  "language_info": {
   "codemirror_mode": {
    "name": "ipython",
    "version": 3
   },
   "file_extension": ".py",
   "mimetype": "text/x-python",
   "name": "python",
   "nbconvert_exporter": "python",
   "pygments_lexer": "ipython3",
   "version": "3.12.0"
  }
 },
 "nbformat": 4,
 "nbformat_minor": 5
}
